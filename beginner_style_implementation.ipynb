{
  "nbformat": 4,
  "nbformat_minor": 0,
  "metadata": {
    "colab": {
      "name": "beginner_style_implementation.ipynb",
      "provenance": [],
      "collapsed_sections": [],
      "include_colab_link": true
    },
    "kernelspec": {
      "name": "python3",
      "display_name": "Python 3"
    },
    "language_info": {
      "name": "python"
    },
    "accelerator": "GPU"
  },
  "cells": [
    {
      "cell_type": "markdown",
      "metadata": {
        "id": "view-in-github",
        "colab_type": "text"
      },
      "source": [
        "<a href=\"https://colab.research.google.com/github/zihoonkim/inf_car_number/blob/main/beginner_style_implementation.ipynb\" target=\"_parent\"><img src=\"https://colab.research.google.com/assets/colab-badge.svg\" alt=\"Open In Colab\"/></a>"
      ]
    },
    {
      "cell_type": "markdown",
      "metadata": {
        "id": "lNLw0ats-wK2"
      },
      "source": [
        "# 라이브러리를 import 합니다."
      ]
    },
    {
      "cell_type": "code",
      "metadata": {
        "id": "URknhw648i33"
      },
      "source": [
        "import tensorflow as tf\n",
        "import matplotlib.pyplot as plt\n",
        "import numpy as np"
      ],
      "execution_count": 1,
      "outputs": []
    },
    {
      "cell_type": "markdown",
      "metadata": {
        "id": "I0Nfl_Wy-0Cq"
      },
      "source": [
        "# load_data() 함수를 이용해서 mnist 데이터를 불러옵니다."
      ]
    },
    {
      "cell_type": "code",
      "metadata": {
        "colab": {
          "base_uri": "https://localhost:8080/"
        },
        "id": "v__zZh4F-yIl",
        "outputId": "63130ee2-dd60-4fea-ec69-6024c25250a6"
      },
      "source": [
        "(x_train, y_train), (x_test, y_test) = tf.keras.datasets.mnist.load_data()\n",
        "x_train, x_test = x_train / 255.0, x_test / 255.0 # 픽셀 range를 0~255에서 0~1로 변경합니다.\n",
        "print(type(x_train))\n",
        "print(type(y_train))"
      ],
      "execution_count": 2,
      "outputs": [
        {
          "output_type": "stream",
          "name": "stdout",
          "text": [
            "Downloading data from https://storage.googleapis.com/tensorflow/tf-keras-datasets/mnist.npz\n",
            "11493376/11490434 [==============================] - 0s 0us/step\n",
            "11501568/11490434 [==============================] - 0s 0us/step\n",
            "<class 'numpy.ndarray'>\n",
            "<class 'numpy.ndarray'>\n"
          ]
        }
      ]
    },
    {
      "cell_type": "code",
      "metadata": {
        "colab": {
          "base_uri": "https://localhost:8080/"
        },
        "id": "0biEXxJ1-2W1",
        "outputId": "85b5bba6-e0ba-44f1-c676-9cea07224f8b"
      },
      "source": [
        "print(x_train.shape) # 6만장 데이터에 28 x 28 사이즈의 이미지\n",
        "print(y_train.shape)\n",
        "print(x_test.shape)  # 만장의 테스트 이미지\n",
        "print(y_test.shape)"
      ],
      "execution_count": 3,
      "outputs": [
        {
          "output_type": "stream",
          "name": "stdout",
          "text": [
            "(60000, 28, 28)\n",
            "(60000,)\n",
            "(10000, 28, 28)\n",
            "(10000,)\n"
          ]
        }
      ]
    },
    {
      "cell_type": "markdown",
      "metadata": {
        "id": "mlu6Kmy--6HJ"
      },
      "source": [
        "# 데이터의 일부를 살펴봅시다."
      ]
    },
    {
      "cell_type": "code",
      "metadata": {
        "colab": {
          "base_uri": "https://localhost:8080/",
          "height": 283
        },
        "id": "K5HNdoWm-3uc",
        "outputId": "10190901-13ed-412d-d76a-fd0966313b5a"
      },
      "source": [
        "plt.imshow(x_train[0])\n",
        "print('정답 label :', y_train[0])"
      ],
      "execution_count": 4,
      "outputs": [
        {
          "output_type": "stream",
          "name": "stdout",
          "text": [
            "정답 label : 5\n"
          ]
        },
        {
          "output_type": "display_data",
          "data": {
            "image/png": "[encoded data removed]",
            "text/plain": [
              "<Figure size 432x288 with 1 Axes>"
            ]
          },
          "metadata": {
            "needs_background": "light"
          }
        }
      ]
    },
    {
      "cell_type": "code",
      "metadata": {
        "colab": {
          "base_uri": "https://localhost:8080/",
          "height": 283
        },
        "id": "-iGU-uw_-7p0",
        "outputId": "7d4df6d2-316f-4b23-d555-ac1b2690fbc3"
      },
      "source": [
        "plt.imshow(x_train[1])\n",
        "print('정답 label :', y_train[1])"
      ],
      "execution_count": 5,
      "outputs": [
        {
          "output_type": "stream",
          "name": "stdout",
          "text": [
            "정답 label : 0\n"
          ]
        },
        {
          "output_type": "display_data",
          "data": {
            "image/png": "[encoded data removed]",
            "text/plain": [
              "<Figure size 432x288 with 1 Axes>"
            ]
          },
          "metadata": {
            "needs_background": "light"
          }
        }
      ]
    },
    {
      "cell_type": "markdown",
      "metadata": {
        "id": "9Qp4z9w1-_jj"
      },
      "source": [
        "# ANN 모델을 하나 정의합니다."
      ]
    },
    {
      "cell_type": "code",
      "metadata": {
        "id": "18V8Znbl-9b5"
      },
      "source": [
        "# beginners 스타일 모델 구현 Sequential\n",
        "model = tf.keras.models.Sequential([\n",
        "  tf.keras.layers.Flatten(input_shape=(28, 28)), ## 28x28 을 784로 flatten\n",
        "  tf.keras.layers.Dense(128, activation='relu'), # 히든 128개의 노드로\n",
        "  tf.keras.layers.Dense(10, activation='softmax') # 마지막 softmax로\n",
        "])"
      ],
      "execution_count": 6,
      "outputs": []
    },
    {
      "cell_type": "markdown",
      "metadata": {
        "id": "UXryZKKQ_D3C"
      },
      "source": [
        "# 손실함수와 옵티마이저를 정의합니다."
      ]
    },
    {
      "cell_type": "code",
      "metadata": {
        "id": "G_y9QqPL_CWM"
      },
      "source": [
        "model.compile(optimizer='sgd',  ## compile 매소드 실행 sgd, adam 등 \n",
        "              loss='sparse_categorical_crossentropy', # 원핫 인코딩을 자동으로 적용한뒤 크로스엔트로피 적용 \n",
        "              metrics=['accuracy'])"
      ],
      "execution_count": 7,
      "outputs": []
    },
    {
      "cell_type": "code",
      "metadata": {
        "colab": {
          "base_uri": "https://localhost:8080/"
        },
        "id": "sGiWTE___GWU",
        "outputId": "fb8e6923-273c-4cb8-f2ed-608438754e67"
      },
      "source": [
        "model.fit(x_train, y_train, epochs=5)"
      ],
      "execution_count": 8,
      "outputs": [
        {
          "output_type": "stream",
          "name": "stdout",
          "text": [
            "Epoch 1/5\n",
            "1875/1875 [==============================] - 7s 3ms/step - loss: 0.6364 - accuracy: 0.8389\n",
            "Epoch 2/5\n",
            "1875/1875 [==============================] - 5s 3ms/step - loss: 0.3393 - accuracy: 0.9048\n",
            "Epoch 3/5\n",
            "1875/1875 [==============================] - 5s 3ms/step - loss: 0.2915 - accuracy: 0.9177\n",
            "Epoch 4/5\n",
            "1875/1875 [==============================] - 5s 3ms/step - loss: 0.2618 - accuracy: 0.9262\n",
            "Epoch 5/5\n",
            "1875/1875 [==============================] - 5s 3ms/step - loss: 0.2394 - accuracy: 0.9331\n"
          ]
        },
        {
          "output_type": "execute_result",
          "data": {
            "text/plain": [
              "<keras.callbacks.History at 0x7f22ee107bd0>"
            ]
          },
          "metadata": {},
          "execution_count": 8
        }
      ]
    },
    {
      "cell_type": "markdown",
      "metadata": {
        "id": "yzWBDYiS_J0L"
      },
      "source": [
        "# test 데이터에 대한 mnist 모델의 정확도를 출력합니다."
      ]
    },
    {
      "cell_type": "code",
      "metadata": {
        "colab": {
          "base_uri": "https://localhost:8080/"
        },
        "id": "Cu6aFacU_H92",
        "outputId": "4230a9d8-99a0-4ad1-9082-c11391c26957"
      },
      "source": [
        "model.evaluate(x_test, y_test, verbose=2)"
      ],
      "execution_count": 9,
      "outputs": [
        {
          "output_type": "stream",
          "name": "stdout",
          "text": [
            "313/313 - 1s - loss: 0.2250 - accuracy: 0.9378 - 875ms/epoch - 3ms/step\n"
          ]
        },
        {
          "output_type": "execute_result",
          "data": {
            "text/plain": [
              "[0.2249605506658554, 0.9377999901771545]"
            ]
          },
          "metadata": {},
          "execution_count": 9
        }
      ]
    },
    {
      "cell_type": "code",
      "metadata": {
        "colab": {
          "base_uri": "https://localhost:8080/",
          "height": 302
        },
        "id": "bdmLm7XO_LaW",
        "outputId": "079e82be-f1b8-433e-fca3-21e1599864c5"
      },
      "source": [
        "plt.imshow(x_test[100])\n",
        "predictions = model.predict(x_test[100:101]) # 한장에 대한 예측 predict\n",
        "print('예측값 :', np.argmax(predictions[0])) # 하나로 정답을 정하기 위해서 argmax(최대값 위치)\n",
        "print('정답 :', y_test[100])"
      ],
      "execution_count": 10,
      "outputs": [
        {
          "output_type": "stream",
          "name": "stdout",
          "text": [
            "예측값 : 6\n",
            "정답 : 6\n"
          ]
        },
        {
          "output_type": "display_data",
          "data": {
            "image/png": "[encoded data removed]",
            "text/plain": [
              "<Figure size 432x288 with 1 Axes>"
            ]
          },
          "metadata": {
            "needs_background": "light"
          }
        }
      ]
    },
    {
      "cell_type": "code",
      "metadata": {
        "id": "OP9_kiNi_NQX",
        "colab": {
          "base_uri": "https://localhost:8080/"
        },
        "outputId": "734ead29-7ce1-4d31-e102-8d871bf3cda5"
      },
      "source": [
        "predictions"
      ],
      "execution_count": 11,
      "outputs": [
        {
          "output_type": "execute_result",
          "data": {
            "text/plain": [
              "array([[1.5085132e-03, 1.9599851e-03, 2.3073183e-02, 2.4371047e-03,\n",
              "        2.3085007e-03, 1.0997445e-03, 9.6144569e-01, 7.6845591e-04,\n",
              "        4.5076152e-03, 8.9114730e-04]], dtype=float32)"
            ]
          },
          "metadata": {},
          "execution_count": 11
        }
      ]
    },
    {
      "cell_type": "code",
      "source": [
        "plt.imshow(x_test[101])\n",
        "predictions = model.predict(x_test[101:102]) \n",
        "print('예측값 :', np.argmax(predictions[0])) \n",
        "print('정답 :', y_test[101])"
      ],
      "metadata": {
        "colab": {
          "base_uri": "https://localhost:8080/",
          "height": 302
        },
        "id": "3v4_02vsMNbM",
        "outputId": "f506a2ab-92db-46b4-e7e3-0c8da1bfef04"
      },
      "execution_count": 13,
      "outputs": [
        {
          "output_type": "stream",
          "name": "stdout",
          "text": [
            "예측값 : 0\n",
            "정답 : 0\n"
          ]
        },
        {
          "output_type": "display_data",
          "data": {
            "image/png": "[encoded data removed]",
            "text/plain": [
              "<Figure size 432x288 with 1 Axes>"
            ]
          },
          "metadata": {
            "needs_background": "light"
          }
        }
      ]
    },
    {
      "cell_type": "code",
      "source": [
        ""
      ],
      "metadata": {
        "id": "o7lfLMi5Mbue"
      },
      "execution_count": null,
      "outputs": []
    }
  ]
}