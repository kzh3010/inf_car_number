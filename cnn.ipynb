{
  "nbformat": 4,
  "nbformat_minor": 0,
  "metadata": {
    "colab": {
      "name": "cnn.ipynb",
      "provenance": [],
      "authorship_tag": "ABX9TyNfDJGAZO0enQX+DZvqeCgp",
      "include_colab_link": true
    },
    "kernelspec": {
      "name": "python3",
      "display_name": "Python 3"
    },
    "language_info": {
      "name": "python"
    }
  },
  "cells": [
    {
      "cell_type": "markdown",
      "metadata": {
        "id": "view-in-github",
        "colab_type": "text"
      },
      "source": [
        "<a href=\"https://colab.research.google.com/github/zihoonkim/inf_car_number/blob/main/cnn.ipynb\" target=\"_parent\"><img src=\"https://colab.research.google.com/assets/colab-badge.svg\" alt=\"Open In Colab\"/></a>"
      ]
    },
    {
      "cell_type": "code",
      "execution_count": null,
      "metadata": {
        "id": "erjuW5nZM8IW"
      },
      "outputs": [],
      "source": [
        "\n",
        "import tensorflow as tf\n",
        "\n",
        "\n",
        "(x_train, y_train), (x_test, y_test) = tf.keras.datasets.mnist.load_data()\n",
        "x_train, x_test = x_train.astype('float32'), x_test.astype('float32')\n",
        "x_train, x_test = x_train.reshape([-1, 784]), x_test.reshape([-1, 784])\n",
        "x_train, x_test = x_train / 255., x_test / 255.\n",
        "y_train, y_test = tf.one_hot(y_train, depth=10), tf.one_hot(y_test, depth=10)\n",
        "\n",
        "train_data = tf.data.Dataset.from_tensor_slices((x_train, y_train))\n",
        "train_data = train_data.repeat().shuffle(60000).batch(50)\n",
        "train_data_iter = iter(train_data)\n",
        "\n",
        "#CNN 모델을 정의\n",
        "class CNN(tf.keras.Model):\n",
        "  def __init__(self):\n",
        "    super(CNN, self).__init__() # super 매소드를 통해 삭속받은 keras 모델의 생성자 호추\n",
        "    # 첫번째 Convolution Layer\n",
        "    # 5x5 Kernel Size를 가진 32개의 Filter를 적용 Conc2D 와 MaxPool2D API를 이용 \n",
        "    self.conv_layer_1 = tf.keras.layers.Conv2D(filters=32, kernel_size=5, strides=1, padding='same', activation='relu')\n",
        "                                              ### 필터 사이즈를 32개로 5 x 5 스트라이드는 1, padding은 same과 valid가 존재 valid는 기본 공식 {(w - f + 2p) / s} +1으로 same 원본 사이즈와 동일한크기    \n",
        "    self.pool_layer_1 = tf.keras.layers.MaxPool2D(pool_size=(2, 2), strides=2)\n",
        "\n",
        "    # 두번째 Convolutional Layer\n",
        "    # 5x5 Kernel Size를 가진 64개\n",
        "    self.conv_layer_2 = tf.keras.layers.Conv2D(filters=64, kernel_size=5, strides=1, padding='same', activation='relu')\n",
        "    self.pool_layer_2 = tf.keras.layers.MaxPool2D(pool_size=(2, 2), strides=2)\n",
        "\n",
        "    # Fully Connected Layer\n",
        "    # 7x7 크기를 가진 64개의 activation map을 1024\n",
        "    self.flatten_layer = tf.keras.layers.Flatten() ## Flatten은 이 일련의 과정을 펼치는 과정이라고 생각하면 된다.\n",
        "    self.fc_layer_1 = tf.keras.layers.Dense(1024, activation='relu')\n",
        "\n",
        "    # Output Layer\n",
        "    # 1024개의 특징들을 10개의 클래스 one-hot encoding으로 표현된 숫자 0~9-로\n",
        "    self.output_layer = tf.keras.layers.Dense(10, activation=None)\n",
        "\n",
        "  def call(self, x):\n",
        "    # MNIST 데이터를 3차원 형태로 reshape\n",
        "    x_image = tf.reshape(x, [-1, 28, 28, 1])\n",
        "    # 28x28x1 -> 28x28x32\n",
        "    h_conv1 = self.conv_layer_1(x_image)\n",
        "    # 28x28x32 -> 14x14x32\n",
        "    h_pool1 = self.pool_layer_1(h_conv1)\n",
        "    # 14x14x32 -> 14x14x64\n",
        "    h_conv2 = self.conv_layer_2(h_pool1)\n",
        "    # 14x14x64 -> 7x7x64\n",
        "    h_pool2 = self.pool_layer_2(h_conv2)\n",
        "    # 7x7x64(3136) -> 1024\n",
        "    h_pool2_flat = self.flatten_layer(h_pool2)\n",
        "    h_fc1 = self.fc_layer_1(h_pool2_flat)\n",
        "    # 1024 -> 10\n",
        "    logits = self.output_layer(h_fc1)\n",
        "    y_pred = tf.nn.softmax(logits)\n",
        "\n",
        "    return y_pred, logits\n",
        "\n",
        "\n",
        "@tf.function\n",
        "def cross_entropy_loss(logits, y):\n",
        "  return tf.reduce_mean(tf.nn.softmax_cross_entropy_with_logits(logits=logits, labels=y))\n",
        "\n",
        "# 최적화를 위한 Adam 옵티마이저를 정의\n",
        "optimizer = tf.optimizers.Adam(1e-4)\n",
        "\n",
        "\n",
        "@tf.function\n",
        "def train_step(model, x, y):\n",
        "  with tf.GradientTape() as tape:\n",
        "    y_pred, logits = model(x)\n",
        "    loss = cross_entropy_loss(logits, y)\n",
        "  gradients = tape.gradient(loss, model.trainable_variables)\n",
        "  optimizer.apply_gradients(zip(gradients, model.trainable_variables))\n",
        "\n",
        "\n",
        "@tf.function\n",
        "def compute_accuracy(y_pred, y):\n",
        "  correct_prediction = tf.equal(tf.argmax(y_pred,1), tf.argmax(y,1))\n",
        "  accuracy = tf.reduce_mean(tf.cast(correct_prediction, tf.float32))\n",
        "\n",
        "  return accuracy\n",
        "\n",
        "# Convolutional Neural Networks(CNN) 모델\n",
        "CNN_model = CNN()\n",
        "\n",
        "\n",
        "for i in range(10000):\n",
        "  \n",
        "  batch_x, batch_y = next(train_data_iter)\n",
        "  .\n",
        "  if i % 100 == 0:\n",
        "    train_accuracy = compute_accuracy(CNN_model(batch_x)[0], batch_y)\n",
        "    print(\"반복(Epoch): %d, 트레이닝 데이터 정확도: %f\" % (i, train_accuracy))\n",
        "  \n",
        "  train_step(CNN_model, batch_x, batch_y)\n",
        "\n",
        "\n",
        "print(\"정확도(Accuracy): %f\" % compute_accuracy(CNN_model(x_test)[0], y_test))"
      ]
    },
    {
      "cell_type": "markdown",
      "source": [
        ""
      ],
      "metadata": {
        "id": "vIwwf6VzZ73J"
      }
    }
  ]
}