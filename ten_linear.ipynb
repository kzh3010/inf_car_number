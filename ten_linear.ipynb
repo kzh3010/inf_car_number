{
  "nbformat": 4,
  "nbformat_minor": 0,
  "metadata": {
    "colab": {
      "name": "ten_linear.ipynb",
      "provenance": [],
      "authorship_tag": "ABX9TyPX8cBrCfnqEi2Xl3FiKikO",
      "include_colab_link": true
    },
    "kernelspec": {
      "name": "python3",
      "display_name": "Python 3"
    },
    "language_info": {
      "name": "python"
    }
  },
  "cells": [
    {
      "cell_type": "markdown",
      "metadata": {
        "id": "view-in-github",
        "colab_type": "text"
      },
      "source": [
        "<a href=\"https://colab.research.google.com/github/zihoonkim/inf_car_number/blob/main/ten_linear.ipynb\" target=\"_parent\"><img src=\"https://colab.research.google.com/assets/colab-badge.svg\" alt=\"Open In Colab\"/></a>"
      ]
    },
    {
      "cell_type": "code",
      "execution_count": 2,
      "metadata": {
        "colab": {
          "base_uri": "https://localhost:8080/"
        },
        "id": "s8NH7HHr7JmB",
        "outputId": "fc9de6e8-5dfc-423d-e6a0-2a02112912d8"
      },
      "outputs": [
        {
          "output_type": "stream",
          "name": "stdout",
          "text": [
            "[14.960037 17.940638 20.921236 23.901836]\n"
          ]
        }
      ],
      "source": [
        "import tensorflow as tf\n",
        "\n",
        "W = tf.Variable(tf.random.normal(shape=[1]))\n",
        "b = tf.Variable(tf.random.normal(shape=[1]))\n",
        "# 선형 회귀 W와 b를 위해 tf.Variable을 사용 초기 값을 랜덤으로 차원은 1차원\n",
        "\n",
        "@tf.function\n",
        "def linear_model(x):\n",
        "  return W*x + b\n",
        "\n",
        "@tf.function\n",
        "def mse_loss(y_pred, y):\n",
        "  return tf.reduce_mean(tf.square(y_pred - y))\n",
        "# 손실함수를 정의해준것인데. MSE를 사용\n",
        "\n",
        "optimizer = tf.optimizers.SGD(0.01)\n",
        "#경사하강법 정의 0.01의 학습률 적용\n",
        "\n",
        "@tf.function\n",
        "def train_step(x, y):\n",
        "  with tf.GradientTape() as tape:\n",
        "    y_pred = linear_model(x)\n",
        "    loss = mse_loss(y_pred, y)\n",
        "  gradients = tape.gradient(loss, [W, b])\n",
        "  optimizer.apply_gradients(zip(gradients, [W, b]))\n",
        "# 최적화를 위한\n",
        "\n",
        "#트레이닝 \n",
        "x_train = [1,2,3,4]\n",
        "y_train = [3,6,9,12]  ## y = 3x\n",
        "\n",
        "# 경사하강법 n번 반복\n",
        "for i in range(1000):\n",
        "   train_step(x_train, y_train)\n",
        "    \n",
        "#테스트를 통한 확인\n",
        "x_test = [5,6,7,8]\n",
        "# 예상 [3,6,9,12]\n",
        "\n",
        "print(linear_model(x_test).numpy())\n"
      ]
    },
    {
      "cell_type": "code",
      "source": [
        ""
      ],
      "metadata": {
        "id": "_3NZJY4F8fVd"
      },
      "execution_count": null,
      "outputs": []
    },
    {
      "cell_type": "code",
      "source": [
        ""
      ],
      "metadata": {
        "id": "By6U1vlM8fg8"
      },
      "execution_count": null,
      "outputs": []
    },
    {
      "cell_type": "code",
      "source": [
        ""
      ],
      "metadata": {
        "id": "5mk0NmNK7vsJ"
      },
      "execution_count": null,
      "outputs": []
    },
    {
      "cell_type": "code",
      "source": [
        ""
      ],
      "metadata": {
        "id": "Rkzm75tr7h8I"
      },
      "execution_count": null,
      "outputs": []
    }
  ]
}